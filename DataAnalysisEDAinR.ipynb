{
 "cells": [
  {
   "cell_type": "code",
   "execution_count": 30,
   "metadata": {},
   "outputs": [],
   "source": [
    "setwd('C://Users//kkami//downloads')"
   ]
  },
  {
   "cell_type": "code",
   "execution_count": 31,
   "metadata": {},
   "outputs": [
    {
     "name": "stdout",
     "output_type": "stream",
     "text": [
      "[1] \"Supress library outputs\"\n"
     ]
    }
   ],
   "source": [
    "library(dplyr)\n",
    "library(ggplot2)\n",
    "print('Supress library outputs')"
   ]
  },
  {
   "cell_type": "code",
   "execution_count": 32,
   "metadata": {},
   "outputs": [],
   "source": [
    "lux25 <- read.csv('lux25.csv', header = T) #read in test result data"
   ]
  },
  {
   "cell_type": "code",
   "execution_count": 68,
   "metadata": {},
   "outputs": [
    {
     "data": {
      "text/html": [
       "<style>\n",
       ".list-inline {list-style: none; margin:0; padding: 0}\n",
       ".list-inline>li {display: inline-block}\n",
       ".list-inline>li:not(:last-child)::after {content: \"\\00b7\"; padding: 0 .5ex}\n",
       "</style>\n",
       "<ol class=list-inline><li>50</li><li>2</li></ol>\n"
      ],
      "text/latex": [
       "\\begin{enumerate*}\n",
       "\\item 50\n",
       "\\item 2\n",
       "\\end{enumerate*}\n"
      ],
      "text/markdown": [
       "1. 50\n",
       "2. 2\n",
       "\n",
       "\n"
      ],
      "text/plain": [
       "[1] 50  2"
      ]
     },
     "metadata": {},
     "output_type": "display_data"
    },
    {
     "data": {
      "text/plain": [
       "\n",
       "Competitor        HAI \n",
       "        25         25 "
      ]
     },
     "metadata": {},
     "output_type": "display_data"
    }
   ],
   "source": [
    "dim(lux25)\n",
    "table(lux25$Sample) #ensure number of samples are even between HAI and competitor samples"
   ]
  },
  {
   "cell_type": "code",
   "execution_count": 78,
   "metadata": {},
   "outputs": [
    {
     "data": {
      "text/html": [
       "<table>\n",
       "<caption>A data.frame: 6 × 2</caption>\n",
       "<thead>\n",
       "\t<tr><th></th><th scope=col>Sample</th><th scope=col>Lux</th></tr>\n",
       "\t<tr><th></th><th scope=col>&lt;fct&gt;</th><th scope=col>&lt;dbl&gt;</th></tr>\n",
       "</thead>\n",
       "<tbody>\n",
       "\t<tr><th scope=row>1</th><td>Competitor</td><td>16.16</td></tr>\n",
       "\t<tr><th scope=row>2</th><td>Competitor</td><td>14.80</td></tr>\n",
       "\t<tr><th scope=row>3</th><td>Competitor</td><td>15.64</td></tr>\n",
       "\t<tr><th scope=row>4</th><td>Competitor</td><td>16.40</td></tr>\n",
       "\t<tr><th scope=row>5</th><td>Competitor</td><td>15.10</td></tr>\n",
       "\t<tr><th scope=row>6</th><td>Competitor</td><td>15.60</td></tr>\n",
       "</tbody>\n",
       "</table>\n"
      ],
      "text/latex": [
       "A data.frame: 6 × 2\n",
       "\\begin{tabular}{r|ll}\n",
       "  & Sample & Lux\\\\\n",
       "  & <fct> & <dbl>\\\\\n",
       "\\hline\n",
       "\t1 & Competitor & 16.16\\\\\n",
       "\t2 & Competitor & 14.80\\\\\n",
       "\t3 & Competitor & 15.64\\\\\n",
       "\t4 & Competitor & 16.40\\\\\n",
       "\t5 & Competitor & 15.10\\\\\n",
       "\t6 & Competitor & 15.60\\\\\n",
       "\\end{tabular}\n"
      ],
      "text/markdown": [
       "\n",
       "A data.frame: 6 × 2\n",
       "\n",
       "| <!--/--> | Sample &lt;fct&gt; | Lux &lt;dbl&gt; |\n",
       "|---|---|---|\n",
       "| 1 | Competitor | 16.16 |\n",
       "| 2 | Competitor | 14.80 |\n",
       "| 3 | Competitor | 15.64 |\n",
       "| 4 | Competitor | 16.40 |\n",
       "| 5 | Competitor | 15.10 |\n",
       "| 6 | Competitor | 15.60 |\n",
       "\n"
      ],
      "text/plain": [
       "  Sample     Lux  \n",
       "1 Competitor 16.16\n",
       "2 Competitor 14.80\n",
       "3 Competitor 15.64\n",
       "4 Competitor 16.40\n",
       "5 Competitor 15.10\n",
       "6 Competitor 15.60"
      ]
     },
     "metadata": {},
     "output_type": "display_data"
    }
   ],
   "source": [
    "head(lux25) \n",
    "\n",
    "#The first 6 rows shown below give the Sample column (whether or not this is our product\n",
    "#or a competitors, along with the 'Lux' reading that denotes the area under the curve measured from the developed\n",
    "#smoke tester (see attached powerpoint within this repository for details on test setup and quantity outputs)"
   ]
  },
  {
   "cell_type": "code",
   "execution_count": 79,
   "metadata": {},
   "outputs": [
    {
     "data": {
      "text/plain": [
       "        Sample        Lux       \n",
       " Competitor:25   Min.   :14.48  \n",
       " HAI       :25   1st Qu.:15.67  \n",
       "                 Median :16.38  \n",
       "                 Mean   :16.62  \n",
       "                 3rd Qu.:17.56  \n",
       "                 Max.   :19.16  "
      ]
     },
     "metadata": {},
     "output_type": "display_data"
    }
   ],
   "source": [
    "summary(lux25) #examine overall stats of combined HAI and competitor products"
   ]
  },
  {
   "cell_type": "code",
   "execution_count": 80,
   "metadata": {},
   "outputs": [],
   "source": [
    "lux251 <- ggplot(lux25, aes(x = Lux)) #set up base plot"
   ]
  },
  {
   "cell_type": "code",
   "execution_count": 81,
   "metadata": {},
   "outputs": [],
   "source": [
    "options(repr.plot.width=15, repr.plot.height=8) #adjust plot size"
   ]
  },
  {
   "cell_type": "code",
   "execution_count": 82,
   "metadata": {},
   "outputs": [
    {
     "name": "stderr",
     "output_type": "stream",
     "text": [
      "`stat_bin()` using `bins = 30`. Pick better value with `binwidth`.\n",
      "\n"
     ]
    },
    {
     "data": {
      "image/png": "[encoded data removed]",
      "text/plain": [
       "plot without title"
      ]
     },
     "metadata": {
      "image/png": {
       "height": 480,
       "width": 900
      }
     },
     "output_type": "display_data"
    }
   ],
   "source": [
    "lux251 + \n",
    "  geom_histogram(alpha = 0.1, aes(y=..density.. ,fill = Sample)) + \n",
    "  #scale_fill_manual(values = c(\"#17B265\", \"#B82136\")) + \n",
    "  geom_density(aes(fill = Sample), alpha = 0.4) +\n",
    "    theme(legend.key.height= unit(1, 'cm'),\n",
    "    legend.key.width= unit(4, 'cm'), legend.title = element_text(size=30), legend.text = element_text(size=30)) +\n",
    "  geom_vline(aes(xintercept = (lux25 %>% filter(Sample == 'HAI') %>% summarize(mean = mean(Lux)) %>% as.double(.))),size = 1, linetype = \"dashed\", color = \"#2cacbf\") +\n",
    "  geom_vline(aes(xintercept = (lux25 %>% filter(Sample == 'Competitor') %>% summarize(mean = mean(Lux)) %>% as.double(.))), size = 1, linetype = \"dashed\", color =\"#eb5834\" )\n",
    "\n",
    "#create a visualization of the cumultalive distrubution density over histogram of values, with vertical\n",
    "#dashed lines as indicates of overall mean\n",
    "\n",
    "#Recall that a higher 'lux' amount (measure of light intensity through the smoke) is a measure of how much light is able to \n",
    "#reach the sensor. Therefore, a higher lux amount indicates lower smoke levels from HAI products vs. the competitor product."
   ]
  },
  {
   "cell_type": "code",
   "execution_count": 84,
   "metadata": {},
   "outputs": [],
   "source": [
    "HAI <- filter(lux25, Sample == 'HAI') #split samples into HAI and Competitor samples \n",
    "comp <- filter(lux25, Sample == 'Competitor')"
   ]
  },
  {
   "cell_type": "code",
   "execution_count": 61,
   "metadata": {},
   "outputs": [
    {
     "data": {
      "text/plain": [
       "\n",
       "\tWelch Two Sample t-test\n",
       "\n",
       "data:  HAI$Lux and comp$Lux\n",
       "t = 10.105, df = 43.26, p-value = 5.86e-13\n",
       "alternative hypothesis: true difference in means is not equal to 0\n",
       "95 percent confidence interval:\n",
       " 1.518965 2.276235\n",
       "sample estimates:\n",
       "mean of x mean of y \n",
       "  17.5664   15.6688 \n"
      ]
     },
     "metadata": {},
     "output_type": "display_data"
    }
   ],
   "source": [
    "t.test(HAI$Lux,comp$Lux) #perform T-test to assess difference in sample testing. Note the \n",
    "#p-value is 5.86^-13, i.e. significant indication that these samples are in fact different"
   ]
  },
  {
   "cell_type": "code",
   "execution_count": 62,
   "metadata": {},
   "outputs": [
    {
     "data": {
      "text/html": [
       "0.765957353033879"
      ],
      "text/latex": [
       "0.765957353033879"
      ],
      "text/markdown": [
       "0.765957353033879"
      ],
      "text/plain": [
       "[1] 0.7659574"
      ]
     },
     "metadata": {},
     "output_type": "display_data"
    },
    {
     "data": {
      "text/html": [
       "0.543018722820248"
      ],
      "text/latex": [
       "0.543018722820248"
      ],
      "text/markdown": [
       "0.543018722820248"
      ],
      "text/plain": [
       "[1] 0.5430187"
      ]
     },
     "metadata": {},
     "output_type": "display_data"
    }
   ],
   "source": [
    "sd(HAI$Lux) #examine devation between samples. \n",
    "sd(comp$Lux)\n",
    "\n",
    "#the HAI sample has a larger variation in sample testing vs. the competitor. This would likely benefit from aditional \n",
    "#testing to close the gap in standard deviations"
   ]
  },
  {
   "cell_type": "code",
   "execution_count": 76,
   "metadata": {},
   "outputs": [
    {
     "name": "stderr",
     "output_type": "stream",
     "text": [
      "`summarise()` ungrouping output (override with `.groups` argument)\n",
      "\n"
     ]
    },
    {
     "data": {
      "text/html": [
       "<table>\n",
       "<caption>A tibble: 2 × 7</caption>\n",
       "<thead>\n",
       "\t<tr><th scope=col>Sample</th><th scope=col>mean(Lux)</th><th scope=col>median(Lux)</th><th scope=col>sd(Lux)</th><th scope=col>quantile(Lux, 0.25)</th><th scope=col>quantile(Lux, 0.75)</th><th scope=col>max(Lux)</th></tr>\n",
       "\t<tr><th scope=col>&lt;fct&gt;</th><th scope=col>&lt;dbl&gt;</th><th scope=col>&lt;dbl&gt;</th><th scope=col>&lt;dbl&gt;</th><th scope=col>&lt;dbl&gt;</th><th scope=col>&lt;dbl&gt;</th><th scope=col>&lt;dbl&gt;</th></tr>\n",
       "</thead>\n",
       "<tbody>\n",
       "\t<tr><td>Competitor</td><td>15.6688</td><td>15.64</td><td>0.5430187</td><td>15.34</td><td>16.12</td><td>16.40</td></tr>\n",
       "\t<tr><td>HAI       </td><td>17.5664</td><td>17.56</td><td>0.7659574</td><td>17.06</td><td>17.82</td><td>19.16</td></tr>\n",
       "</tbody>\n",
       "</table>\n"
      ],
      "text/latex": [
       "A tibble: 2 × 7\n",
       "\\begin{tabular}{lllllll}\n",
       " Sample & mean(Lux) & median(Lux) & sd(Lux) & quantile(Lux, 0.25) & quantile(Lux, 0.75) & max(Lux)\\\\\n",
       " <fct> & <dbl> & <dbl> & <dbl> & <dbl> & <dbl> & <dbl>\\\\\n",
       "\\hline\n",
       "\t Competitor & 15.6688 & 15.64 & 0.5430187 & 15.34 & 16.12 & 16.40\\\\\n",
       "\t HAI        & 17.5664 & 17.56 & 0.7659574 & 17.06 & 17.82 & 19.16\\\\\n",
       "\\end{tabular}\n"
      ],
      "text/markdown": [
       "\n",
       "A tibble: 2 × 7\n",
       "\n",
       "| Sample &lt;fct&gt; | mean(Lux) &lt;dbl&gt; | median(Lux) &lt;dbl&gt; | sd(Lux) &lt;dbl&gt; | quantile(Lux, 0.25) &lt;dbl&gt; | quantile(Lux, 0.75) &lt;dbl&gt; | max(Lux) &lt;dbl&gt; |\n",
       "|---|---|---|---|---|---|---|\n",
       "| Competitor | 15.6688 | 15.64 | 0.5430187 | 15.34 | 16.12 | 16.40 |\n",
       "| HAI        | 17.5664 | 17.56 | 0.7659574 | 17.06 | 17.82 | 19.16 |\n",
       "\n"
      ],
      "text/plain": [
       "  Sample     mean(Lux) median(Lux) sd(Lux)   quantile(Lux, 0.25)\n",
       "1 Competitor 15.6688   15.64       0.5430187 15.34              \n",
       "2 HAI        17.5664   17.56       0.7659574 17.06              \n",
       "  quantile(Lux, 0.75) max(Lux)\n",
       "1 16.12               16.40   \n",
       "2 17.82               19.16   "
      ]
     },
     "metadata": {},
     "output_type": "display_data"
    }
   ],
   "source": [
    "lux_stats <- lux25 %>% group_by(Sample) %>% summarize(mean(Lux), median(Lux), sd(Lux), \n",
    "                                                       quantile(Lux, 0.25), quantile(Lux, 0.75), max(Lux))\n",
    "\n",
    "lux_stats #examine the quartile ranges in tabular form bewteen HAI and competitor samples to see where the samples lie"
   ]
  },
  {
   "cell_type": "code",
   "execution_count": 75,
   "metadata": {},
   "outputs": [
    {
     "data": {
      "image/png": "[encoded data removed]",
      "text/plain": [
       "plot without title"
      ]
     },
     "metadata": {
      "image/png": {
       "height": 480,
       "width": 900
      }
     },
     "output_type": "display_data"
    }
   ],
   "source": [
    " ggplot(lux25, aes(x=Sample, y = Lux)) + geom_boxplot(aes(fill = Sample)) +\n",
    "   theme(legend.position = \"right\", legend.title = element_text(size = 30), legend.text = element_text(size = 20), \n",
    "        legend.key.height= unit(1, 'cm'),\n",
    "    legend.key.width= unit(4, 'cm'))\n",
    "\n",
    "#visualize the differents in IQ range with boxplot to visualize differences in sample medians"
   ]
  },
  {
   "cell_type": "code",
   "execution_count": null,
   "metadata": {},
   "outputs": [],
   "source": [
    "#Again the higher lux value in the HAI samples indicates the ability of light to reach the sensor with less obstruction, \n",
    "#indicating reduced smoke in this particular HAI formulation vs. the competitive sample. "
   ]
  }
 ],
 "metadata": {
  "kernelspec": {
   "display_name": "R",
   "language": "R",
   "name": "ir"
  },
  "language_info": {
   "codemirror_mode": "r",
   "file_extension": ".r",
   "mimetype": "text/x-r-source",
   "name": "R",
   "pygments_lexer": "r",
   "version": "3.6.1"
  }
 },
 "nbformat": 4,
 "nbformat_minor": 4
}
